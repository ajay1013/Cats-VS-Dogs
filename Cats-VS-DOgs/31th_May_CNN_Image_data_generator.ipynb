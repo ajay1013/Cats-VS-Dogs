{
  "nbformat": 4,
  "nbformat_minor": 0,
  "metadata": {
    "accelerator": "GPU",
    "colab": {
      "name": "31th_May_CNN_Image data generator.ipynb",
      "provenance": [],
      "collapsed_sections": [],
      "toc_visible": true
    },
    "kernelspec": {
      "display_name": "Python 3",
      "language": "python",
      "name": "python3"
    },
    "language_info": {
      "codemirror_mode": {
        "name": "ipython",
        "version": 3
      },
      "file_extension": ".py",
      "mimetype": "text/x-python",
      "name": "python",
      "nbconvert_exporter": "python",
      "pygments_lexer": "ipython3",
      "version": "3.7.4"
    },
    "widgets": {
      "application/vnd.jupyter.widget-state+json": {
        "2b2feb7af37a406981abe69348c19fab": {
          "model_module": "@jupyter-widgets/controls",
          "model_name": "HBoxModel",
          "state": {
            "_view_name": "HBoxView",
            "_dom_classes": [],
            "_model_name": "HBoxModel",
            "_view_module": "@jupyter-widgets/controls",
            "_model_module_version": "1.5.0",
            "_view_count": null,
            "_view_module_version": "1.5.0",
            "box_style": "",
            "layout": "IPY_MODEL_81c1465759314bc484e8c1affaca4fff",
            "_model_module": "@jupyter-widgets/controls",
            "children": [
              "IPY_MODEL_7bb480e8b6c047c7901be24cef993a2b",
              "IPY_MODEL_22970dcecb8942179675a98578abadbc"
            ]
          }
        },
        "81c1465759314bc484e8c1affaca4fff": {
          "model_module": "@jupyter-widgets/base",
          "model_name": "LayoutModel",
          "state": {
            "_view_name": "LayoutView",
            "grid_template_rows": null,
            "right": null,
            "justify_content": null,
            "_view_module": "@jupyter-widgets/base",
            "overflow": null,
            "_model_module_version": "1.2.0",
            "_view_count": null,
            "flex_flow": null,
            "width": null,
            "min_width": null,
            "border": null,
            "align_items": null,
            "bottom": null,
            "_model_module": "@jupyter-widgets/base",
            "top": null,
            "grid_column": null,
            "overflow_y": null,
            "overflow_x": null,
            "grid_auto_flow": null,
            "grid_area": null,
            "grid_template_columns": null,
            "flex": null,
            "_model_name": "LayoutModel",
            "justify_items": null,
            "grid_row": null,
            "max_height": null,
            "align_content": null,
            "visibility": null,
            "align_self": null,
            "height": null,
            "min_height": null,
            "padding": null,
            "grid_auto_rows": null,
            "grid_gap": null,
            "max_width": null,
            "order": null,
            "_view_module_version": "1.2.0",
            "grid_template_areas": null,
            "object_position": null,
            "object_fit": null,
            "grid_auto_columns": null,
            "margin": null,
            "display": null,
            "left": null
          }
        },
        "7bb480e8b6c047c7901be24cef993a2b": {
          "model_module": "@jupyter-widgets/controls",
          "model_name": "FloatProgressModel",
          "state": {
            "_view_name": "ProgressView",
            "style": "IPY_MODEL_608dd23d0ca8468faea2e2964f4ad9cb",
            "_dom_classes": [],
            "description": "100%",
            "_model_name": "FloatProgressModel",
            "bar_style": "success",
            "max": 25000,
            "_view_module": "@jupyter-widgets/controls",
            "_model_module_version": "1.5.0",
            "value": 25000,
            "_view_count": null,
            "_view_module_version": "1.5.0",
            "orientation": "horizontal",
            "min": 0,
            "description_tooltip": null,
            "_model_module": "@jupyter-widgets/controls",
            "layout": "IPY_MODEL_2c05e133f8b34ecd8107f80aae0827a5"
          }
        },
        "22970dcecb8942179675a98578abadbc": {
          "model_module": "@jupyter-widgets/controls",
          "model_name": "HTMLModel",
          "state": {
            "_view_name": "HTMLView",
            "style": "IPY_MODEL_857e2da7f66741978d8347fbd8c9c8a8",
            "_dom_classes": [],
            "description": "",
            "_model_name": "HTMLModel",
            "placeholder": "​",
            "_view_module": "@jupyter-widgets/controls",
            "_model_module_version": "1.5.0",
            "value": " 25000/25000 [00:03&lt;00:00, 6802.51it/s]",
            "_view_count": null,
            "_view_module_version": "1.5.0",
            "description_tooltip": null,
            "_model_module": "@jupyter-widgets/controls",
            "layout": "IPY_MODEL_74a4552d13c641c7b60646e0ca800450"
          }
        },
        "608dd23d0ca8468faea2e2964f4ad9cb": {
          "model_module": "@jupyter-widgets/controls",
          "model_name": "ProgressStyleModel",
          "state": {
            "_view_name": "StyleView",
            "_model_name": "ProgressStyleModel",
            "description_width": "initial",
            "_view_module": "@jupyter-widgets/base",
            "_model_module_version": "1.5.0",
            "_view_count": null,
            "_view_module_version": "1.2.0",
            "bar_color": null,
            "_model_module": "@jupyter-widgets/controls"
          }
        },
        "2c05e133f8b34ecd8107f80aae0827a5": {
          "model_module": "@jupyter-widgets/base",
          "model_name": "LayoutModel",
          "state": {
            "_view_name": "LayoutView",
            "grid_template_rows": null,
            "right": null,
            "justify_content": null,
            "_view_module": "@jupyter-widgets/base",
            "overflow": null,
            "_model_module_version": "1.2.0",
            "_view_count": null,
            "flex_flow": null,
            "width": null,
            "min_width": null,
            "border": null,
            "align_items": null,
            "bottom": null,
            "_model_module": "@jupyter-widgets/base",
            "top": null,
            "grid_column": null,
            "overflow_y": null,
            "overflow_x": null,
            "grid_auto_flow": null,
            "grid_area": null,
            "grid_template_columns": null,
            "flex": null,
            "_model_name": "LayoutModel",
            "justify_items": null,
            "grid_row": null,
            "max_height": null,
            "align_content": null,
            "visibility": null,
            "align_self": null,
            "height": null,
            "min_height": null,
            "padding": null,
            "grid_auto_rows": null,
            "grid_gap": null,
            "max_width": null,
            "order": null,
            "_view_module_version": "1.2.0",
            "grid_template_areas": null,
            "object_position": null,
            "object_fit": null,
            "grid_auto_columns": null,
            "margin": null,
            "display": null,
            "left": null
          }
        },
        "857e2da7f66741978d8347fbd8c9c8a8": {
          "model_module": "@jupyter-widgets/controls",
          "model_name": "DescriptionStyleModel",
          "state": {
            "_view_name": "StyleView",
            "_model_name": "DescriptionStyleModel",
            "description_width": "",
            "_view_module": "@jupyter-widgets/base",
            "_model_module_version": "1.5.0",
            "_view_count": null,
            "_view_module_version": "1.2.0",
            "_model_module": "@jupyter-widgets/controls"
          }
        },
        "74a4552d13c641c7b60646e0ca800450": {
          "model_module": "@jupyter-widgets/base",
          "model_name": "LayoutModel",
          "state": {
            "_view_name": "LayoutView",
            "grid_template_rows": null,
            "right": null,
            "justify_content": null,
            "_view_module": "@jupyter-widgets/base",
            "overflow": null,
            "_model_module_version": "1.2.0",
            "_view_count": null,
            "flex_flow": null,
            "width": null,
            "min_width": null,
            "border": null,
            "align_items": null,
            "bottom": null,
            "_model_module": "@jupyter-widgets/base",
            "top": null,
            "grid_column": null,
            "overflow_y": null,
            "overflow_x": null,
            "grid_auto_flow": null,
            "grid_area": null,
            "grid_template_columns": null,
            "flex": null,
            "_model_name": "LayoutModel",
            "justify_items": null,
            "grid_row": null,
            "max_height": null,
            "align_content": null,
            "visibility": null,
            "align_self": null,
            "height": null,
            "min_height": null,
            "padding": null,
            "grid_auto_rows": null,
            "grid_gap": null,
            "max_width": null,
            "order": null,
            "_view_module_version": "1.2.0",
            "grid_template_areas": null,
            "object_position": null,
            "object_fit": null,
            "grid_auto_columns": null,
            "margin": null,
            "display": null,
            "left": null
          }
        },
        "cca1edf2973a4318b15d38e96a8b1b06": {
          "model_module": "@jupyter-widgets/controls",
          "model_name": "HBoxModel",
          "state": {
            "_view_name": "HBoxView",
            "_dom_classes": [],
            "_model_name": "HBoxModel",
            "_view_module": "@jupyter-widgets/controls",
            "_model_module_version": "1.5.0",
            "_view_count": null,
            "_view_module_version": "1.5.0",
            "box_style": "",
            "layout": "IPY_MODEL_0a75fe7ae3e1479bbb37b543eba5ed33",
            "_model_module": "@jupyter-widgets/controls",
            "children": [
              "IPY_MODEL_edc4600a11594de1b8d44366090c2e47",
              "IPY_MODEL_76a0143b072446fb8a4b5c6a33acf694"
            ]
          }
        },
        "0a75fe7ae3e1479bbb37b543eba5ed33": {
          "model_module": "@jupyter-widgets/base",
          "model_name": "LayoutModel",
          "state": {
            "_view_name": "LayoutView",
            "grid_template_rows": null,
            "right": null,
            "justify_content": null,
            "_view_module": "@jupyter-widgets/base",
            "overflow": null,
            "_model_module_version": "1.2.0",
            "_view_count": null,
            "flex_flow": null,
            "width": null,
            "min_width": null,
            "border": null,
            "align_items": null,
            "bottom": null,
            "_model_module": "@jupyter-widgets/base",
            "top": null,
            "grid_column": null,
            "overflow_y": null,
            "overflow_x": null,
            "grid_auto_flow": null,
            "grid_area": null,
            "grid_template_columns": null,
            "flex": null,
            "_model_name": "LayoutModel",
            "justify_items": null,
            "grid_row": null,
            "max_height": null,
            "align_content": null,
            "visibility": null,
            "align_self": null,
            "height": null,
            "min_height": null,
            "padding": null,
            "grid_auto_rows": null,
            "grid_gap": null,
            "max_width": null,
            "order": null,
            "_view_module_version": "1.2.0",
            "grid_template_areas": null,
            "object_position": null,
            "object_fit": null,
            "grid_auto_columns": null,
            "margin": null,
            "display": null,
            "left": null
          }
        },
        "edc4600a11594de1b8d44366090c2e47": {
          "model_module": "@jupyter-widgets/controls",
          "model_name": "FloatProgressModel",
          "state": {
            "_view_name": "ProgressView",
            "style": "IPY_MODEL_a5fafc64036741ba9bbe1c7088aa5fa7",
            "_dom_classes": [],
            "description": "100%",
            "_model_name": "FloatProgressModel",
            "bar_style": "success",
            "max": 12500,
            "_view_module": "@jupyter-widgets/controls",
            "_model_module_version": "1.5.0",
            "value": 12500,
            "_view_count": null,
            "_view_module_version": "1.5.0",
            "orientation": "horizontal",
            "min": 0,
            "description_tooltip": null,
            "_model_module": "@jupyter-widgets/controls",
            "layout": "IPY_MODEL_2628fe066c204824882b779d3e86d006"
          }
        },
        "76a0143b072446fb8a4b5c6a33acf694": {
          "model_module": "@jupyter-widgets/controls",
          "model_name": "HTMLModel",
          "state": {
            "_view_name": "HTMLView",
            "style": "IPY_MODEL_352bbf0c22de4d1f8226dd3bc31d05ab",
            "_dom_classes": [],
            "description": "",
            "_model_name": "HTMLModel",
            "placeholder": "​",
            "_view_module": "@jupyter-widgets/controls",
            "_model_module_version": "1.5.0",
            "value": " 12500/12500 [00:29&lt;00:00, 424.84it/s]",
            "_view_count": null,
            "_view_module_version": "1.5.0",
            "description_tooltip": null,
            "_model_module": "@jupyter-widgets/controls",
            "layout": "IPY_MODEL_bf2dc4d32359429083321becaef87d8c"
          }
        },
        "a5fafc64036741ba9bbe1c7088aa5fa7": {
          "model_module": "@jupyter-widgets/controls",
          "model_name": "ProgressStyleModel",
          "state": {
            "_view_name": "StyleView",
            "_model_name": "ProgressStyleModel",
            "description_width": "initial",
            "_view_module": "@jupyter-widgets/base",
            "_model_module_version": "1.5.0",
            "_view_count": null,
            "_view_module_version": "1.2.0",
            "bar_color": null,
            "_model_module": "@jupyter-widgets/controls"
          }
        },
        "2628fe066c204824882b779d3e86d006": {
          "model_module": "@jupyter-widgets/base",
          "model_name": "LayoutModel",
          "state": {
            "_view_name": "LayoutView",
            "grid_template_rows": null,
            "right": null,
            "justify_content": null,
            "_view_module": "@jupyter-widgets/base",
            "overflow": null,
            "_model_module_version": "1.2.0",
            "_view_count": null,
            "flex_flow": null,
            "width": null,
            "min_width": null,
            "border": null,
            "align_items": null,
            "bottom": null,
            "_model_module": "@jupyter-widgets/base",
            "top": null,
            "grid_column": null,
            "overflow_y": null,
            "overflow_x": null,
            "grid_auto_flow": null,
            "grid_area": null,
            "grid_template_columns": null,
            "flex": null,
            "_model_name": "LayoutModel",
            "justify_items": null,
            "grid_row": null,
            "max_height": null,
            "align_content": null,
            "visibility": null,
            "align_self": null,
            "height": null,
            "min_height": null,
            "padding": null,
            "grid_auto_rows": null,
            "grid_gap": null,
            "max_width": null,
            "order": null,
            "_view_module_version": "1.2.0",
            "grid_template_areas": null,
            "object_position": null,
            "object_fit": null,
            "grid_auto_columns": null,
            "margin": null,
            "display": null,
            "left": null
          }
        },
        "352bbf0c22de4d1f8226dd3bc31d05ab": {
          "model_module": "@jupyter-widgets/controls",
          "model_name": "DescriptionStyleModel",
          "state": {
            "_view_name": "StyleView",
            "_model_name": "DescriptionStyleModel",
            "description_width": "",
            "_view_module": "@jupyter-widgets/base",
            "_model_module_version": "1.5.0",
            "_view_count": null,
            "_view_module_version": "1.2.0",
            "_model_module": "@jupyter-widgets/controls"
          }
        },
        "bf2dc4d32359429083321becaef87d8c": {
          "model_module": "@jupyter-widgets/base",
          "model_name": "LayoutModel",
          "state": {
            "_view_name": "LayoutView",
            "grid_template_rows": null,
            "right": null,
            "justify_content": null,
            "_view_module": "@jupyter-widgets/base",
            "overflow": null,
            "_model_module_version": "1.2.0",
            "_view_count": null,
            "flex_flow": null,
            "width": null,
            "min_width": null,
            "border": null,
            "align_items": null,
            "bottom": null,
            "_model_module": "@jupyter-widgets/base",
            "top": null,
            "grid_column": null,
            "overflow_y": null,
            "overflow_x": null,
            "grid_auto_flow": null,
            "grid_area": null,
            "grid_template_columns": null,
            "flex": null,
            "_model_name": "LayoutModel",
            "justify_items": null,
            "grid_row": null,
            "max_height": null,
            "align_content": null,
            "visibility": null,
            "align_self": null,
            "height": null,
            "min_height": null,
            "padding": null,
            "grid_auto_rows": null,
            "grid_gap": null,
            "max_width": null,
            "order": null,
            "_view_module_version": "1.2.0",
            "grid_template_areas": null,
            "object_position": null,
            "object_fit": null,
            "grid_auto_columns": null,
            "margin": null,
            "display": null,
            "left": null
          }
        }
      }
    }
  },
  "cells": [
    {
      "cell_type": "code",
      "metadata": {
        "colab_type": "code",
        "id": "UspWxeqnQi-_",
        "colab": {
          "base_uri": "https://localhost:8080/",
          "height": 102
        },
        "outputId": "f37e5ec3-4536-464e-8f8c-91a9fc23fbb2"
      },
      "source": [
        "%tensorflow_version 2.x #this line should only be used on google colab"
      ],
      "execution_count": null,
      "outputs": [
        {
          "output_type": "stream",
          "text": [
            "`%tensorflow_version` only switches the major version: 1.x or 2.x.\n",
            "You set: `2.x #this line should only be used on google colab`. This will be interpreted as: `2.x`.\n",
            "\n",
            "\n",
            "TensorFlow 2.x selected.\n"
          ],
          "name": "stdout"
        }
      ]
    },
    {
      "cell_type": "code",
      "metadata": {
        "colab_type": "code",
        "id": "xbh7OFx-QvOS",
        "colab": {
          "base_uri": "https://localhost:8080/",
          "height": 34
        },
        "outputId": "1e1d61fe-75c8-43d7-cae3-5c903bbbac02"
      },
      "source": [
        "import tensorflow as tf\n",
        "tf.__version__"
      ],
      "execution_count": null,
      "outputs": [
        {
          "output_type": "execute_result",
          "data": {
            "text/plain": [
              "'2.2.0'"
            ]
          },
          "metadata": {
            "tags": []
          },
          "execution_count": 2
        }
      ]
    },
    {
      "cell_type": "code",
      "metadata": {
        "colab_type": "code",
        "id": "2HpozJnpQ895",
        "colab": {}
      },
      "source": [
        "!mkdir /root/.kaggle\n",
        "!mv kaggle.json /root/.kaggle"
      ],
      "execution_count": null,
      "outputs": []
    },
    {
      "cell_type": "code",
      "metadata": {
        "colab_type": "code",
        "id": "IU-bO-WySZmR",
        "colab": {
          "base_uri": "https://localhost:8080/",
          "height": 54
        },
        "outputId": "ac277735-3d6a-4526-c60b-573eca2d4528"
      },
      "source": [
        "import kaggle"
      ],
      "execution_count": null,
      "outputs": [
        {
          "output_type": "stream",
          "text": [
            "Warning: Your Kaggle API key is readable by other users on this system! To fix this, you can run 'chmod 600 /root/.kaggle/kaggle.json'\n"
          ],
          "name": "stdout"
        }
      ]
    },
    {
      "cell_type": "code",
      "metadata": {
        "colab_type": "code",
        "id": "gaEHiJYdRw0C",
        "colab": {
          "base_uri": "https://localhost:8080/",
          "height": 224
        },
        "outputId": "c7d07fca-b6b0-470e-f810-6e18cbe7a3a1"
      },
      "source": [
        "!kaggle competitions download -c dogs-vs-cats"
      ],
      "execution_count": null,
      "outputs": [
        {
          "output_type": "stream",
          "text": [
            "Warning: Your Kaggle API key is readable by other users on this system! To fix this, you can run 'chmod 600 /root/.kaggle/kaggle.json'\n",
            "Warning: Looks like you're using an outdated API Version, please consider updating (server 1.5.6 / client 1.5.4)\n",
            "Downloading train.zip to /content\n",
            " 97% 529M/543M [00:06<00:00, 83.6MB/s]\n",
            "100% 543M/543M [00:06<00:00, 92.9MB/s]\n",
            "Downloading sampleSubmission.csv to /content\n",
            "  0% 0.00/86.8k [00:00<?, ?B/s]\n",
            "100% 86.8k/86.8k [00:00<00:00, 83.9MB/s]\n",
            "Downloading test1.zip to /content\n",
            " 90% 244M/271M [00:03<00:00, 58.7MB/s]\n",
            "100% 271M/271M [00:04<00:00, 70.5MB/s]\n"
          ],
          "name": "stdout"
        }
      ]
    },
    {
      "cell_type": "code",
      "metadata": {
        "colab_type": "code",
        "id": "O0cl6FHoSHGw",
        "colab": {}
      },
      "source": [
        "!unzip -q train.zip\n",
        "!unzip -q test1.zip"
      ],
      "execution_count": null,
      "outputs": []
    },
    {
      "cell_type": "code",
      "metadata": {
        "colab_type": "code",
        "id": "XH2zgiSPS1Yo",
        "colab": {}
      },
      "source": [
        "import cv2\n",
        "import os\n",
        "import numpy as np\n",
        "import matplotlib.pyplot as plt\n",
        "import tqdm"
      ],
      "execution_count": null,
      "outputs": []
    },
    {
      "cell_type": "code",
      "metadata": {
        "id": "ku3CizlrWWfk",
        "colab_type": "code",
        "colab": {
          "base_uri": "https://localhost:8080/",
          "height": 34
        },
        "outputId": "4a2afa81-c50e-44f9-ea54-f030e5314d59"
      },
      "source": [
        "# *********************************\n",
        "# | - train_data\n",
        "#   | - cat\n",
        "#   | - dog\n",
        "# *********************************\n",
        "master_folder = \"train_data\"\n",
        "os.mkdir(master_folder)\n",
        "unique_class = [\"cat\", \"dog\"]\n",
        "[os.mkdir(os.path.join(\".\", master_folder, i)) for i in unique_class]"
      ],
      "execution_count": null,
      "outputs": [
        {
          "output_type": "execute_result",
          "data": {
            "text/plain": [
              "[None, None]"
            ]
          },
          "metadata": {
            "tags": []
          },
          "execution_count": 8
        }
      ]
    },
    {
      "cell_type": "code",
      "metadata": {
        "id": "3BscQ1L_Svn9",
        "colab_type": "code",
        "colab": {
          "base_uri": "https://localhost:8080/",
          "height": 34
        },
        "outputId": "47d3cbaa-75d6-44d0-d4e2-6b926acc5da1"
      },
      "source": [
        "# *********************************\n",
        "# | - test_data\n",
        "#   | - cat\n",
        "#   | - dog\n",
        "# *********************************\n",
        "master_folder1 = \"test_data\"\n",
        "os.mkdir(master_folder1)\n",
        "unique_class = [\"cat\", \"dog\"]\n",
        "[os.mkdir(os.path.join(\".\", master_folder1, i)) for i in unique_class]"
      ],
      "execution_count": null,
      "outputs": [
        {
          "output_type": "execute_result",
          "data": {
            "text/plain": [
              "[None, None]"
            ]
          },
          "metadata": {
            "tags": []
          },
          "execution_count": 9
        }
      ]
    },
    {
      "cell_type": "code",
      "metadata": {
        "id": "dDc8PJrhXuWQ",
        "colab_type": "code",
        "colab": {
          "base_uri": "https://localhost:8080/",
          "height": 137,
          "referenced_widgets": [
            "2b2feb7af37a406981abe69348c19fab",
            "81c1465759314bc484e8c1affaca4fff",
            "7bb480e8b6c047c7901be24cef993a2b",
            "22970dcecb8942179675a98578abadbc",
            "608dd23d0ca8468faea2e2964f4ad9cb",
            "2c05e133f8b34ecd8107f80aae0827a5",
            "857e2da7f66741978d8347fbd8c9c8a8",
            "74a4552d13c641c7b60646e0ca800450"
          ]
        },
        "outputId": "7a6bf21e-5e68-4018-bd7b-a317c13e53f9"
      },
      "source": [
        "import shutil, tqdm\n",
        "for image in tqdm.tqdm_notebook(os.listdir(\"train\")):\n",
        "  if \"cat\" in image:\n",
        "    shutil.copy(os.path.join(\"train\", image), os.path.join(master_folder, \"cat\"))\n",
        "  else:\n",
        "    shutil.copy(os.path.join(\"train\", image), os.path.join(master_folder, \"dog\"))"
      ],
      "execution_count": null,
      "outputs": [
        {
          "output_type": "stream",
          "text": [
            "/usr/local/lib/python3.6/dist-packages/ipykernel_launcher.py:2: TqdmDeprecationWarning: This function will be removed in tqdm==5.0.0\n",
            "Please use `tqdm.notebook.tqdm` instead of `tqdm.tqdm_notebook`\n",
            "  \n"
          ],
          "name": "stderr"
        },
        {
          "output_type": "display_data",
          "data": {
            "application/vnd.jupyter.widget-view+json": {
              "model_id": "2b2feb7af37a406981abe69348c19fab",
              "version_minor": 0,
              "version_major": 2
            },
            "text/plain": [
              "HBox(children=(FloatProgress(value=0.0, max=25000.0), HTML(value='')))"
            ]
          },
          "metadata": {
            "tags": []
          }
        },
        {
          "output_type": "stream",
          "text": [
            "\n"
          ],
          "name": "stdout"
        }
      ]
    },
    {
      "cell_type": "code",
      "metadata": {
        "id": "sHcW-5_qSggc",
        "colab_type": "code",
        "colab": {
          "base_uri": "https://localhost:8080/",
          "height": 137,
          "referenced_widgets": [
            "cca1edf2973a4318b15d38e96a8b1b06",
            "0a75fe7ae3e1479bbb37b543eba5ed33",
            "edc4600a11594de1b8d44366090c2e47",
            "76a0143b072446fb8a4b5c6a33acf694",
            "a5fafc64036741ba9bbe1c7088aa5fa7",
            "2628fe066c204824882b779d3e86d006",
            "352bbf0c22de4d1f8226dd3bc31d05ab",
            "bf2dc4d32359429083321becaef87d8c"
          ]
        },
        "outputId": "bbe89102-50f4-439f-d444-85b22125cde7"
      },
      "source": [
        "import shutil, tqdm\n",
        "for image in tqdm.tqdm_notebook(os.listdir(\"test1\")):\n",
        "  if \"cat\" in image:\n",
        "    shutil.copy(os.path.join(\"test1\", image), os.path.join(master_folder1, \"cat\"))\n",
        "  else:\n",
        "    shutil.copy(os.path.join(\"test1\", image), os.path.join(master_folder1, \"dog\"))"
      ],
      "execution_count": null,
      "outputs": [
        {
          "output_type": "stream",
          "text": [
            "/usr/local/lib/python3.6/dist-packages/ipykernel_launcher.py:2: TqdmDeprecationWarning: This function will be removed in tqdm==5.0.0\n",
            "Please use `tqdm.notebook.tqdm` instead of `tqdm.tqdm_notebook`\n",
            "  \n"
          ],
          "name": "stderr"
        },
        {
          "output_type": "display_data",
          "data": {
            "application/vnd.jupyter.widget-view+json": {
              "model_id": "cca1edf2973a4318b15d38e96a8b1b06",
              "version_minor": 0,
              "version_major": 2
            },
            "text/plain": [
              "HBox(children=(FloatProgress(value=0.0, max=12500.0), HTML(value='')))"
            ]
          },
          "metadata": {
            "tags": []
          }
        },
        {
          "output_type": "stream",
          "text": [
            "\n"
          ],
          "name": "stdout"
        }
      ]
    },
    {
      "cell_type": "code",
      "metadata": {
        "id": "PjtwmIdrY45b",
        "colab_type": "code",
        "colab": {}
      },
      "source": [
        "#os.listdir(\"train_data/cat\")"
      ],
      "execution_count": null,
      "outputs": []
    },
    {
      "cell_type": "code",
      "metadata": {
        "id": "DbWnDKEsTrY-",
        "colab_type": "code",
        "colab": {}
      },
      "source": [
        "#os.listdir(\"test_data/dog\")"
      ],
      "execution_count": null,
      "outputs": []
    },
    {
      "cell_type": "code",
      "metadata": {
        "id": "KD1aVafzWu2e",
        "colab_type": "code",
        "colab": {}
      },
      "source": [
        "# | - data_folder\n",
        "#   | - category_1\n",
        "#   | - category_2\n",
        "#   | - category_3"
      ],
      "execution_count": null,
      "outputs": []
    },
    {
      "cell_type": "code",
      "metadata": {
        "id": "hZLNnnYsZnU1",
        "colab_type": "code",
        "colab": {}
      },
      "source": [
        "!rm -rf train\n",
        "!rm -rf test1\n",
        "!rm -rf sampleSubmission.csv\n",
        "!rm -rf test1.zip\n",
        "!rm -rf train.zip"
      ],
      "execution_count": null,
      "outputs": []
    },
    {
      "cell_type": "code",
      "metadata": {
        "id": "bdMww8NJU2a3",
        "colab_type": "code",
        "colab": {
          "base_uri": "https://localhost:8080/",
          "height": 51
        },
        "outputId": "bd5b2ba3-4724-48dd-f7ae-36c9cd6a240f"
      },
      "source": [
        "from tensorflow.keras.preprocessing.image import ImageDataGenerator\n",
        "idg = ImageDataGenerator(rescale=1/255.0, validation_split=0.2)\n",
        "train_generater = idg.flow_from_directory(\"train_data\", target_size=(150,150), batch_size=32, subset=\"training\")\n",
        "val_generater = idg.flow_from_directory(\"train_data\", target_size=(150,150), batch_size=32, subset=\"validation\")"
      ],
      "execution_count": null,
      "outputs": [
        {
          "output_type": "stream",
          "text": [
            "Found 20000 images belonging to 2 classes.\n",
            "Found 5000 images belonging to 2 classes.\n"
          ],
          "name": "stdout"
        }
      ]
    },
    {
      "cell_type": "code",
      "metadata": {
        "id": "H6C8LaBXWXYO",
        "colab_type": "code",
        "colab": {
          "base_uri": "https://localhost:8080/",
          "height": 34
        },
        "outputId": "cf60528c-3727-4d17-ce59-b133180408a4"
      },
      "source": [
        "from tensorflow.keras.preprocessing.image import ImageDataGenerator\n",
        "idg = ImageDataGenerator(rescale=1/255.0)\n",
        "test_generater = idg.flow_from_directory(\"test_data\", target_size=(150,150), batch_size=32)"
      ],
      "execution_count": null,
      "outputs": [
        {
          "output_type": "stream",
          "text": [
            "Found 12500 images belonging to 2 classes.\n"
          ],
          "name": "stdout"
        }
      ]
    },
    {
      "cell_type": "code",
      "metadata": {
        "id": "ueYml6sjiAfI",
        "colab_type": "code",
        "colab": {
          "base_uri": "https://localhost:8080/",
          "height": 51
        },
        "outputId": "3edac1d0-a301-4797-c430-0eedceb99948"
      },
      "source": [
        "# data with augumentation\n",
        "idg_aug = ImageDataGenerator(rescale=1/255.0, horizontal_flip=True, zoom_range=0.2, brightness_range=(0.2, 0.4), validation_split=0.2)\n",
        "train_generater_aug = idg_aug.flow_from_directory(\"train_data\", target_size=(150,150), batch_size=32, subset=\"training\")\n",
        "val_generater_aug = idg_aug.flow_from_directory(\"train_data\", target_size=(150,150), batch_size=32, subset=\"validation\")"
      ],
      "execution_count": null,
      "outputs": [
        {
          "output_type": "stream",
          "text": [
            "Found 20000 images belonging to 2 classes.\n",
            "Found 5000 images belonging to 2 classes.\n"
          ],
          "name": "stdout"
        }
      ]
    },
    {
      "cell_type": "code",
      "metadata": {
        "colab_type": "code",
        "id": "4bvaUy9hVgSw",
        "colab": {}
      },
      "source": [
        "from tensorflow.keras.models import Sequential\n",
        "from tensorflow.keras.layers import Dense, Flatten, Conv2D, MaxPooling2D\n",
        "from tensorflow.keras.activations import relu, softmax\n",
        "from tensorflow.keras.losses import categorical_crossentropy\n",
        "from tensorflow.keras.optimizers import SGD, Adam"
      ],
      "execution_count": null,
      "outputs": []
    },
    {
      "cell_type": "code",
      "metadata": {
        "id": "GNUpfSnaIql8",
        "colab_type": "code",
        "colab": {}
      },
      "source": [
        "from tensorflow.keras import callbacks"
      ],
      "execution_count": null,
      "outputs": []
    },
    {
      "cell_type": "markdown",
      "metadata": {
        "colab_type": "text",
        "id": "E0yyslX9ZV0t"
      },
      "source": [
        "Output feature shape = (Image Shape  - Filter shape) / (Strides)  + 1"
      ]
    },
    {
      "cell_type": "code",
      "metadata": {
        "colab_type": "code",
        "id": "LhfU8yEtZjUt",
        "colab": {}
      },
      "source": [
        "# (I=150 - F=3) / (S = 1) + 1 = 148"
      ],
      "execution_count": null,
      "outputs": []
    },
    {
      "cell_type": "code",
      "metadata": {
        "colab_type": "code",
        "id": "v9IJZ0egWU49",
        "colab": {}
      },
      "source": [
        "model = Sequential()\n",
        "model.add(Conv2D(32, (3,3), strides=(1,1),activation=relu, input_shape=(150,150,3)))   #148*148*32 Output of 1st Conv\n",
        "model.add(MaxPooling2D(pool_size=(2,2)))                                               #74*74*32\n",
        "model.add(Conv2D(64, (3,3), strides=(1,1),activation=relu))                            #72*72*64\n",
        "model.add(MaxPooling2D(pool_size=(2,2)))                                               #36*36*64\n",
        "model.add(Flatten())                                                                   #82,944\n",
        "model.add(Dense(512, activation=relu))\n",
        "model.add(Dense(2, activation=softmax))"
      ],
      "execution_count": null,
      "outputs": []
    },
    {
      "cell_type": "code",
      "metadata": {
        "id": "PDXGqByRPWmX",
        "colab_type": "code",
        "colab": {
          "base_uri": "https://localhost:8080/",
          "height": 51
        },
        "outputId": "2d1ef25a-209a-4cdb-9911-7fea360b8b0d"
      },
      "source": [
        "# 32(num of filters) * (3*3*3)(size of filter) + 32(bias) [16, 32, 64, 128, 512]\n",
        "print(32*3*3*3  + 32)\n",
        "print(64*3*3*32 + 64)"
      ],
      "execution_count": null,
      "outputs": [
        {
          "output_type": "stream",
          "text": [
            "896\n",
            "18496\n"
          ],
          "name": "stdout"
        }
      ]
    },
    {
      "cell_type": "code",
      "metadata": {
        "colab_type": "code",
        "id": "FuKp4-Omal-n",
        "colab": {
          "base_uri": "https://localhost:8080/",
          "height": 391
        },
        "outputId": "c644f9fe-b79f-409e-9952-ff53ca8d602a"
      },
      "source": [
        "model.summary()"
      ],
      "execution_count": null,
      "outputs": [
        {
          "output_type": "stream",
          "text": [
            "Model: \"sequential\"\n",
            "_________________________________________________________________\n",
            "Layer (type)                 Output Shape              Param #   \n",
            "=================================================================\n",
            "conv2d (Conv2D)              (None, 148, 148, 32)      896       \n",
            "_________________________________________________________________\n",
            "max_pooling2d (MaxPooling2D) (None, 74, 74, 32)        0         \n",
            "_________________________________________________________________\n",
            "conv2d_1 (Conv2D)            (None, 72, 72, 64)        18496     \n",
            "_________________________________________________________________\n",
            "max_pooling2d_1 (MaxPooling2 (None, 36, 36, 64)        0         \n",
            "_________________________________________________________________\n",
            "flatten (Flatten)            (None, 82944)             0         \n",
            "_________________________________________________________________\n",
            "dense (Dense)                (None, 512)               42467840  \n",
            "_________________________________________________________________\n",
            "dense_1 (Dense)              (None, 2)                 1026      \n",
            "=================================================================\n",
            "Total params: 42,488,258\n",
            "Trainable params: 42,488,258\n",
            "Non-trainable params: 0\n",
            "_________________________________________________________________\n"
          ],
          "name": "stdout"
        }
      ]
    },
    {
      "cell_type": "code",
      "metadata": {
        "colab_type": "code",
        "id": "xcVaVW-PanLZ",
        "colab": {
          "base_uri": "https://localhost:8080/",
          "height": 887
        },
        "outputId": "fbdc2b81-fbde-4add-8b24-115de2fa86e8"
      },
      "source": [
        "model.compile(SGD(), categorical_crossentropy, [\"acc\"])\n",
        "model_history = model.fit(train_generater_aug, epochs=25, validation_data=val_generater_aug)"
      ],
      "execution_count": null,
      "outputs": [
        {
          "output_type": "stream",
          "text": [
            "Epoch 1/25\n",
            "625/625 [==============================] - 204s 327ms/step - loss: 0.6806 - acc: 0.5601 - val_loss: 0.6623 - val_acc: 0.6214\n",
            "Epoch 2/25\n",
            "625/625 [==============================] - 204s 327ms/step - loss: 0.6606 - acc: 0.6073 - val_loss: 0.6519 - val_acc: 0.6194\n",
            "Epoch 3/25\n",
            "625/625 [==============================] - 205s 328ms/step - loss: 0.6460 - acc: 0.6266 - val_loss: 0.6311 - val_acc: 0.6530\n",
            "Epoch 4/25\n",
            "625/625 [==============================] - 204s 326ms/step - loss: 0.6257 - acc: 0.6491 - val_loss: 0.6062 - val_acc: 0.6628\n",
            "Epoch 5/25\n",
            "625/625 [==============================] - 202s 323ms/step - loss: 0.6058 - acc: 0.6711 - val_loss: 0.5890 - val_acc: 0.6956\n",
            "Epoch 6/25\n",
            "625/625 [==============================] - 201s 321ms/step - loss: 0.5821 - acc: 0.6960 - val_loss: 0.5791 - val_acc: 0.6898\n",
            "Epoch 7/25\n",
            "625/625 [==============================] - 201s 322ms/step - loss: 0.5636 - acc: 0.7126 - val_loss: 0.5494 - val_acc: 0.7314\n",
            "Epoch 8/25\n",
            "625/625 [==============================] - 202s 323ms/step - loss: 0.5482 - acc: 0.7279 - val_loss: 0.5424 - val_acc: 0.7320\n",
            "Epoch 9/25\n",
            "625/625 [==============================] - 205s 329ms/step - loss: 0.5361 - acc: 0.7293 - val_loss: 0.5268 - val_acc: 0.7346\n",
            "Epoch 10/25\n",
            "625/625 [==============================] - 203s 325ms/step - loss: 0.5262 - acc: 0.7404 - val_loss: 0.5163 - val_acc: 0.7536\n",
            "Epoch 11/25\n",
            "625/625 [==============================] - 210s 336ms/step - loss: 0.5124 - acc: 0.7502 - val_loss: 0.5018 - val_acc: 0.7568\n",
            "Epoch 12/25\n",
            "625/625 [==============================] - 207s 332ms/step - loss: 0.5017 - acc: 0.7605 - val_loss: 0.5189 - val_acc: 0.7414\n",
            "Epoch 13/25\n",
            "625/625 [==============================] - 208s 332ms/step - loss: 0.4939 - acc: 0.7653 - val_loss: 0.5160 - val_acc: 0.7478\n",
            "Epoch 14/25\n",
            "625/625 [==============================] - 207s 332ms/step - loss: 0.4869 - acc: 0.7657 - val_loss: 0.5029 - val_acc: 0.7640\n",
            "Epoch 15/25\n",
            "625/625 [==============================] - 203s 325ms/step - loss: 0.4760 - acc: 0.7741 - val_loss: 0.4887 - val_acc: 0.7672\n",
            "Epoch 16/25\n",
            "625/625 [==============================] - 202s 324ms/step - loss: 0.4684 - acc: 0.7789 - val_loss: 0.4845 - val_acc: 0.7692\n",
            "Epoch 17/25\n",
            "625/625 [==============================] - 201s 322ms/step - loss: 0.4608 - acc: 0.7836 - val_loss: 0.4725 - val_acc: 0.7800\n",
            "Epoch 18/25\n",
            "625/625 [==============================] - 202s 323ms/step - loss: 0.4555 - acc: 0.7883 - val_loss: 0.4682 - val_acc: 0.7770\n",
            "Epoch 19/25\n",
            "625/625 [==============================] - 203s 326ms/step - loss: 0.4515 - acc: 0.7878 - val_loss: 0.4840 - val_acc: 0.7666\n",
            "Epoch 20/25\n",
            "625/625 [==============================] - 202s 323ms/step - loss: 0.4433 - acc: 0.7912 - val_loss: 0.4509 - val_acc: 0.7830\n",
            "Epoch 21/25\n",
            "625/625 [==============================] - 199s 319ms/step - loss: 0.4390 - acc: 0.7966 - val_loss: 0.4593 - val_acc: 0.7800\n",
            "Epoch 22/25\n",
            "625/625 [==============================] - 199s 319ms/step - loss: 0.4307 - acc: 0.8016 - val_loss: 0.4655 - val_acc: 0.7842\n",
            "Epoch 23/25\n",
            "625/625 [==============================] - 198s 317ms/step - loss: 0.4247 - acc: 0.8036 - val_loss: 0.4679 - val_acc: 0.7818\n",
            "Epoch 24/25\n",
            "625/625 [==============================] - 199s 318ms/step - loss: 0.4232 - acc: 0.8045 - val_loss: 0.4620 - val_acc: 0.7862\n",
            "Epoch 25/25\n",
            "625/625 [==============================] - 198s 317ms/step - loss: 0.4149 - acc: 0.8112 - val_loss: 0.4465 - val_acc: 0.7924\n"
          ],
          "name": "stdout"
        }
      ]
    },
    {
      "cell_type": "markdown",
      "metadata": {
        "id": "2eQlGgrwh4aH",
        "colab_type": "text"
      },
      "source": [
        "### If you have less training data you should do Data Augumentation "
      ]
    },
    {
      "cell_type": "code",
      "metadata": {
        "colab_type": "code",
        "id": "59IIByJ2bDub",
        "colab": {
          "base_uri": "https://localhost:8080/",
          "height": 411
        },
        "outputId": "5712cf46-2e7e-4ba9-b75f-18dea4f7eb0c"
      },
      "source": [
        "monitor = tf.keras.callbacks.EarlyStopping(monitor='val_loss',\n",
        "                              min_delta=0,\n",
        "                              patience=1,\n",
        "                              verbose=0, mode='auto')\n",
        "\n",
        "model.compile(SGD(), categorical_crossentropy, [\"acc\"])\n",
        "model_history = model.fit(train_generater, epochs=25, callbacks=[monitor], validation_data=val_generater)"
      ],
      "execution_count": null,
      "outputs": [
        {
          "output_type": "stream",
          "text": [
            "Epoch 1/25\n",
            "625/625 [==============================] - 77s 123ms/step - loss: 0.6628 - acc: 0.5957 - val_loss: 0.6322 - val_acc: 0.6298\n",
            "Epoch 2/25\n",
            "625/625 [==============================] - 75s 119ms/step - loss: 0.6016 - acc: 0.6732 - val_loss: 0.5632 - val_acc: 0.7206\n",
            "Epoch 3/25\n",
            "625/625 [==============================] - 76s 121ms/step - loss: 0.5483 - acc: 0.7199 - val_loss: 0.5322 - val_acc: 0.7294\n",
            "Epoch 4/25\n",
            "625/625 [==============================] - 77s 123ms/step - loss: 0.5055 - acc: 0.7522 - val_loss: 0.5114 - val_acc: 0.7464\n",
            "Epoch 5/25\n",
            "625/625 [==============================] - 75s 120ms/step - loss: 0.4747 - acc: 0.7739 - val_loss: 0.5366 - val_acc: 0.7296\n",
            "Epoch 6/25\n",
            "625/625 [==============================] - 75s 120ms/step - loss: 0.4422 - acc: 0.7945 - val_loss: 0.5036 - val_acc: 0.7550\n",
            "Epoch 7/25\n",
            "625/625 [==============================] - 75s 120ms/step - loss: 0.4072 - acc: 0.8191 - val_loss: 0.4738 - val_acc: 0.7672\n",
            "Epoch 8/25\n",
            "625/625 [==============================] - 75s 120ms/step - loss: 0.3710 - acc: 0.8365 - val_loss: 0.4909 - val_acc: 0.7732\n",
            "Epoch 9/25\n",
            "625/625 [==============================] - 75s 119ms/step - loss: 0.3317 - acc: 0.8573 - val_loss: 0.4704 - val_acc: 0.7788\n",
            "Epoch 10/25\n",
            "625/625 [==============================] - 75s 119ms/step - loss: 0.2900 - acc: 0.8782 - val_loss: 0.5058 - val_acc: 0.7744\n",
            "Epoch 11/25\n",
            "625/625 [==============================] - 75s 120ms/step - loss: 0.2420 - acc: 0.9013 - val_loss: 0.5261 - val_acc: 0.7758\n"
          ],
          "name": "stdout"
        }
      ]
    },
    {
      "cell_type": "code",
      "metadata": {
        "id": "yBeu1f8suakV",
        "colab_type": "code",
        "colab": {
          "base_uri": "https://localhost:8080/",
          "height": 34
        },
        "outputId": "a8ebaa10-7f81-40e3-e6d3-48c878118938"
      },
      "source": [
        "model_history.history.keys()"
      ],
      "execution_count": null,
      "outputs": [
        {
          "output_type": "execute_result",
          "data": {
            "text/plain": [
              "dict_keys(['loss', 'acc', 'val_loss', 'val_acc'])"
            ]
          },
          "metadata": {
            "tags": []
          },
          "execution_count": 26
        }
      ]
    },
    {
      "cell_type": "code",
      "metadata": {
        "id": "_Yma0xG8CFpa",
        "colab_type": "code",
        "colab": {
          "base_uri": "https://localhost:8080/",
          "height": 265
        },
        "outputId": "26d3e67f-4a29-4871-c431-e3d3260b1501"
      },
      "source": [
        "plt.plot(model_history.history[\"acc\"])\n",
        "plt.plot(model_history.history[\"val_acc\"])\n",
        "plt.minorticks_on()\n",
        "plt.grid(True, which=\"both\")"
      ],
      "execution_count": null,
      "outputs": [
        {
          "output_type": "display_data",
          "data": {
            "image/png": "[encoded data removed]",
            "text/plain": [
              "<Figure size 432x288 with 1 Axes>"
            ]
          },
          "metadata": {
            "tags": [],
            "needs_background": "light"
          }
        }
      ]
    },
    {
      "cell_type": "code",
      "metadata": {
        "id": "Mdj1oUm3CKLi",
        "colab_type": "code",
        "colab": {
          "base_uri": "https://localhost:8080/",
          "height": 265
        },
        "outputId": "4d23cb3c-c271-421b-b1db-2d02e97a2ca1"
      },
      "source": [
        "plt.plot(model_history.history[\"loss\"], label=\"Loss\")\n",
        "plt.plot(model_history.history[\"val_loss\"], label=\"Val loss\")\n",
        "plt.minorticks_on()\n",
        "plt.grid(True, which=\"both\")"
      ],
      "execution_count": null,
      "outputs": [
        {
          "output_type": "display_data",
          "data": {
            "image/png": "[encoded data removed]",
            "text/plain": [
              "<Figure size 432x288 with 1 Axes>"
            ]
          },
          "metadata": {
            "tags": [],
            "needs_background": "light"
          }
        }
      ]
    }
  ]
}